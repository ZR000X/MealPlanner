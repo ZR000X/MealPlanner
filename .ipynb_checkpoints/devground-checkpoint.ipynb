{
 "cells": [
  {
   "cell_type": "code",
   "execution_count": 2,
   "id": "8975b07b-5046-4314-bf46-915d2ac8d02c",
   "metadata": {},
   "outputs": [
    {
     "name": "stdout",
     "output_type": "stream",
     "text": [
      "14.535271 [MONE: 1, SERV: -1]\n"
     ]
    }
   ],
   "source": [
    "from classes import *\n",
    "from meals import *\n",
    "from prices import *\n",
    "from products import *\n",
    "\n",
    "# Example checking of cost per serving of a meal\n",
    "print(M[\"Broccauli Pasta\"].cost(P))"
   ]
  },
  {
   "cell_type": "code",
   "execution_count": null,
   "id": "4dadbff1-de2b-44cf-a180-d4778f8afafb",
   "metadata": {},
   "outputs": [],
   "source": []
  }
 ],
 "metadata": {
  "kernelspec": {
   "display_name": "Python 3 (ipykernel)",
   "language": "python",
   "name": "python3"
  },
  "language_info": {
   "codemirror_mode": {
    "name": "ipython",
    "version": 3
   },
   "file_extension": ".py",
   "mimetype": "text/x-python",
   "name": "python",
   "nbconvert_exporter": "python",
   "pygments_lexer": "ipython3",
   "version": "3.8.12"
  }
 },
 "nbformat": 4,
 "nbformat_minor": 5
}
